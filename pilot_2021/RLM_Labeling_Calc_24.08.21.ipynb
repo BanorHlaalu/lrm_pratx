{
 "cells": [
  {
   "cell_type": "markdown",
   "id": "439ac374-ef8c-49f4-9035-1e40ff1c0a9d",
   "metadata": {},
   "source": [
    "# Abatacept Labeling Calculations"
   ]
  },
  {
   "cell_type": "markdown",
   "id": "6f7bba38-5217-47a5-b114-7b295be6fa9c",
   "metadata": {},
   "source": [
    "30.11.21"
   ]
  },
  {
   "cell_type": "code",
   "execution_count": 6,
   "id": "1d9510c8-d355-48e9-b47b-7df966fc479a",
   "metadata": {},
   "outputs": [],
   "source": [
    "import numpy as np\n",
    "import pandas as pd\n",
    "import matplotlib.pyplot as plt\n",
    "from scipy import constants"
   ]
  },
  {
   "cell_type": "code",
   "execution_count": 46,
   "id": "7c09a8d9-b34f-4949-9000-31c5d68c85ab",
   "metadata": {},
   "outputs": [],
   "source": [
    "def val_to_df(act_per_vol=5040000000000.0,v_tot=100,c_aba=10,ratio=1/1):\n",
    "    '''Calculates all components for Cu-64 labeling.\n",
    "    act_per_vol: Activity per volume of received Cu-64 solution in Bq/L (default: 1000) e.g. 504 MBq /100 uL = (504*10**6) / (100*10**-6)\n",
    "    v_tot: Total target volume of Abatacept-Copper mix in uL (default: 100)\n",
    "    c_aba: Target final concentration of Abatacept in uM (default: 10)\n",
    "    ratio: Ratio of radionuclide to peptide (default: 1/1)\n",
    "    '''\n",
    "    M = 92_000 #g/mol\n",
    "    c_m_aba = 5.72 #mg/mL\n",
    "    half_life = 12.7*60**2 #s\n",
    "    c_aba_1 = c_m_aba/M #M\n",
    "    v_aba_1 = (c_aba*10**-6*v_tot*10**-6)/c_aba_1 #L\n",
    "    n_aba = v_tot*10**-6 * c_aba*10**-6 #mol\n",
    "    n_rad = n_aba * ratio #mol\n",
    "    act_rad = n_rad * constants.N_A * np.log(2) / half_life #Bq\n",
    "    v_rad = act_rad/act_per_vol #L\n",
    "    v_amm = v_rad #L\n",
    "    v_dil = v_tot*10**-6-v_aba_1-v_rad-v_amm #L\n",
    "    mol_act = (act_rad*10**-6)/(n_aba*10**9) #MBq/nmol\n",
    "    return pd.DataFrame({'c_peptide_start[M]':[c_aba_1],'V_abatacept[uL]':[v_aba_1*10**6],'n_abatacept[nmol]':[n_aba*10**9],'n_radionuclide[nmol]':[n_rad*10**9],\n",
    "                         'Activity[MBq]':[act_rad*10**-6],'V_radionuclide[uL]':[v_rad*10**6],'V_ammoniumacetate[uL]':[v_amm*10**6],'V_diluent[uL]':[v_dil*10**6], \n",
    "                         'molar act[MBq/nmol]':[mol_act]})"
   ]
  },
  {
   "cell_type": "markdown",
   "id": "a9fd3329-2704-41a6-9dca-49f01a7c402e",
   "metadata": {},
   "source": [
    "504 MBq / 100 uL @ 2 pm"
   ]
  },
  {
   "cell_type": "code",
   "execution_count": 47,
   "id": "9af3be77-f272-4667-84d9-41ffe2f856fc",
   "metadata": {},
   "outputs": [
    {
     "data": {
      "text/plain": [
       "5040000000000.0"
      ]
     },
     "execution_count": 47,
     "metadata": {},
     "output_type": "execute_result"
    }
   ],
   "source": [
    "(504*10**6)/(100*10**-6)"
   ]
  },
  {
   "cell_type": "markdown",
   "id": "0012a349-5e02-4fdc-8047-2f26894adca4",
   "metadata": {
    "tags": []
   },
   "source": [
    "## Sample 1"
   ]
  },
  {
   "cell_type": "markdown",
   "id": "2f185fa0-9706-47cd-8c4c-ea21bd4a9b61",
   "metadata": {},
   "source": [
    "* Measured activity: 28.88 MBq\n",
    "* Target ratio: 1:40\n",
    "* Abatacept vol: 2 uL\n",
    "* Copper sol: 5 uL\n",
    "* Ammonium acetate : 5 uL"
   ]
  },
  {
   "cell_type": "code",
   "execution_count": 58,
   "id": "f94f5c97-be6d-4369-9be4-f7481c6f0275",
   "metadata": {},
   "outputs": [],
   "source": [
    "v_total = 10 + 2 #uL\n",
    "c2_aba = 5.72/92_000/6*10**6 #uM\n",
    "act_tar = 28.88"
   ]
  },
  {
   "cell_type": "code",
   "execution_count": 64,
   "id": "b8156fe1-ec9c-4adf-9343-fec9819c89c5",
   "metadata": {},
   "outputs": [
    {
     "data": {
      "text/html": [
       "<div>\n",
       "<style scoped>\n",
       "    .dataframe tbody tr th:only-of-type {\n",
       "        vertical-align: middle;\n",
       "    }\n",
       "\n",
       "    .dataframe tbody tr th {\n",
       "        vertical-align: top;\n",
       "    }\n",
       "\n",
       "    .dataframe thead th {\n",
       "        text-align: right;\n",
       "    }\n",
       "</style>\n",
       "<table border=\"1\" class=\"dataframe\">\n",
       "  <thead>\n",
       "    <tr style=\"text-align: right;\">\n",
       "      <th></th>\n",
       "      <th>c_peptide_start[M]</th>\n",
       "      <th>V_abatacept[uL]</th>\n",
       "      <th>n_abatacept[nmol]</th>\n",
       "      <th>n_radionuclide[nmol]</th>\n",
       "      <th>Activity[MBq]</th>\n",
       "      <th>V_radionuclide[uL]</th>\n",
       "      <th>V_ammoniumacetate[uL]</th>\n",
       "      <th>V_diluent[uL]</th>\n",
       "      <th>molar act[MBq/nmol]</th>\n",
       "    </tr>\n",
       "  </thead>\n",
       "  <tbody>\n",
       "    <tr>\n",
       "      <th>0</th>\n",
       "      <td>0.000062</td>\n",
       "      <td>2.0</td>\n",
       "      <td>0.124348</td>\n",
       "      <td>0.003171</td>\n",
       "      <td>28.948215</td>\n",
       "      <td>5.743693</td>\n",
       "      <td>5.743693</td>\n",
       "      <td>-1.487387</td>\n",
       "      <td>232.80033</td>\n",
       "    </tr>\n",
       "  </tbody>\n",
       "</table>\n",
       "</div>"
      ],
      "text/plain": [
       "   c_peptide_start[M]  V_abatacept[uL]  n_abatacept[nmol]  \\\n",
       "0            0.000062              2.0           0.124348   \n",
       "\n",
       "   n_radionuclide[nmol]  Activity[MBq]  V_radionuclide[uL]  \\\n",
       "0              0.003171      28.948215            5.743693   \n",
       "\n",
       "   V_ammoniumacetate[uL]  V_diluent[uL]  molar act[MBq/nmol]  \n",
       "0               5.743693      -1.487387            232.80033  "
      ]
     },
     "execution_count": 64,
     "metadata": {},
     "output_type": "execute_result"
    }
   ],
   "source": [
    "val_to_df(ratio=1/39.2181, c_aba=c2_aba, v_tot=v_total)"
   ]
  },
  {
   "cell_type": "markdown",
   "id": "84a83f85-5467-4a43-9ad2-28ea970e4f33",
   "metadata": {
    "tags": []
   },
   "source": [
    "## Sample 2"
   ]
  },
  {
   "cell_type": "markdown",
   "id": "56641440-0e84-487e-ac85-fddd18eaeed8",
   "metadata": {},
   "source": [
    "* Measured activity: 29.34 MBq\n",
    "* Target ratio: 1:100\n",
    "* Abatacept vol: 5 uL\n",
    "* Copper sol: 5 uL\n",
    "* Ammonium acetate : 5 uL"
   ]
  },
  {
   "cell_type": "code",
   "execution_count": 65,
   "id": "e8b1b0ce-b876-463a-a2b5-17d1a501fd0c",
   "metadata": {},
   "outputs": [],
   "source": [
    "v_total = 10 + 5 #uL\n",
    "c2_aba = 5.72/92_000/3*10**6\n",
    "act_tar = 29.34"
   ]
  },
  {
   "cell_type": "code",
   "execution_count": 67,
   "id": "c7802ce4-4d54-4a69-96e8-5974730d35a5",
   "metadata": {},
   "outputs": [
    {
     "data": {
      "text/html": [
       "<div>\n",
       "<style scoped>\n",
       "    .dataframe tbody tr th:only-of-type {\n",
       "        vertical-align: middle;\n",
       "    }\n",
       "\n",
       "    .dataframe tbody tr th {\n",
       "        vertical-align: top;\n",
       "    }\n",
       "\n",
       "    .dataframe thead th {\n",
       "        text-align: right;\n",
       "    }\n",
       "</style>\n",
       "<table border=\"1\" class=\"dataframe\">\n",
       "  <thead>\n",
       "    <tr style=\"text-align: right;\">\n",
       "      <th></th>\n",
       "      <th>c_peptide_start[M]</th>\n",
       "      <th>V_abatacept[uL]</th>\n",
       "      <th>n_abatacept[nmol]</th>\n",
       "      <th>n_radionuclide[nmol]</th>\n",
       "      <th>Activity[MBq]</th>\n",
       "      <th>V_radionuclide[uL]</th>\n",
       "      <th>V_ammoniumacetate[uL]</th>\n",
       "      <th>V_diluent[uL]</th>\n",
       "      <th>molar act[MBq/nmol]</th>\n",
       "    </tr>\n",
       "  </thead>\n",
       "  <tbody>\n",
       "    <tr>\n",
       "      <th>0</th>\n",
       "      <td>0.000062</td>\n",
       "      <td>5.0</td>\n",
       "      <td>0.31087</td>\n",
       "      <td>0.003221</td>\n",
       "      <td>29.409323</td>\n",
       "      <td>5.835183</td>\n",
       "      <td>5.835183</td>\n",
       "      <td>-1.670366</td>\n",
       "      <td>94.603418</td>\n",
       "    </tr>\n",
       "  </tbody>\n",
       "</table>\n",
       "</div>"
      ],
      "text/plain": [
       "   c_peptide_start[M]  V_abatacept[uL]  n_abatacept[nmol]  \\\n",
       "0            0.000062              5.0            0.31087   \n",
       "\n",
       "   n_radionuclide[nmol]  Activity[MBq]  V_radionuclide[uL]  \\\n",
       "0              0.003221      29.409323            5.835183   \n",
       "\n",
       "   V_ammoniumacetate[uL]  V_diluent[uL]  molar act[MBq/nmol]  \n",
       "0               5.835183      -1.670366            94.603418  "
      ]
     },
     "execution_count": 67,
     "metadata": {},
     "output_type": "execute_result"
    }
   ],
   "source": [
    "val_to_df(ratio=1/96.5080, c_aba=c2_aba, v_tot=v_total)"
   ]
  },
  {
   "cell_type": "markdown",
   "id": "25dbcf4d-b314-45d0-9105-3e246257545b",
   "metadata": {
    "tags": []
   },
   "source": [
    "## Sample 3"
   ]
  },
  {
   "cell_type": "markdown",
   "id": "a0dabc46-5993-4520-982c-dec5411e3b87",
   "metadata": {
    "tags": []
   },
   "source": [
    "* Measured activity: 22.86 MBq\n",
    "* Target ratio: 1:200\n",
    "* Abatacept vol: 10 uL\n",
    "* Copper sol: 5 uL\n",
    "* Ammonium acetate : 5 uL"
   ]
  },
  {
   "cell_type": "code",
   "execution_count": 68,
   "id": "1b727b22-e012-42ac-8b64-e994cd3bec5a",
   "metadata": {},
   "outputs": [],
   "source": [
    "v_total = 10 + 10 #uL\n",
    "c2_aba = 5.72/92_000/2*10**6\n",
    "act_tar = 22.86"
   ]
  },
  {
   "cell_type": "code",
   "execution_count": 69,
   "id": "8cd88962-467b-4aee-a40c-623194f39c0e",
   "metadata": {},
   "outputs": [
    {
     "data": {
      "text/html": [
       "<div>\n",
       "<style scoped>\n",
       "    .dataframe tbody tr th:only-of-type {\n",
       "        vertical-align: middle;\n",
       "    }\n",
       "\n",
       "    .dataframe tbody tr th {\n",
       "        vertical-align: top;\n",
       "    }\n",
       "\n",
       "    .dataframe thead th {\n",
       "        text-align: right;\n",
       "    }\n",
       "</style>\n",
       "<table border=\"1\" class=\"dataframe\">\n",
       "  <thead>\n",
       "    <tr style=\"text-align: right;\">\n",
       "      <th></th>\n",
       "      <th>c_peptide_start[M]</th>\n",
       "      <th>V_abatacept[uL]</th>\n",
       "      <th>n_abatacept[nmol]</th>\n",
       "      <th>n_radionuclide[nmol]</th>\n",
       "      <th>Activity[MBq]</th>\n",
       "      <th>V_radionuclide[uL]</th>\n",
       "      <th>V_ammoniumacetate[uL]</th>\n",
       "      <th>V_diluent[uL]</th>\n",
       "      <th>molar act[MBq/nmol]</th>\n",
       "    </tr>\n",
       "  </thead>\n",
       "  <tbody>\n",
       "    <tr>\n",
       "      <th>0</th>\n",
       "      <td>0.000062</td>\n",
       "      <td>10.0</td>\n",
       "      <td>0.621739</td>\n",
       "      <td>0.00251</td>\n",
       "      <td>22.914012</td>\n",
       "      <td>4.546431</td>\n",
       "      <td>4.546431</td>\n",
       "      <td>0.907138</td>\n",
       "      <td>36.854705</td>\n",
       "    </tr>\n",
       "  </tbody>\n",
       "</table>\n",
       "</div>"
      ],
      "text/plain": [
       "   c_peptide_start[M]  V_abatacept[uL]  n_abatacept[nmol]  \\\n",
       "0            0.000062             10.0           0.621739   \n",
       "\n",
       "   n_radionuclide[nmol]  Activity[MBq]  V_radionuclide[uL]  \\\n",
       "0               0.00251      22.914012            4.546431   \n",
       "\n",
       "   V_ammoniumacetate[uL]  V_diluent[uL]  molar act[MBq/nmol]  \n",
       "0               4.546431       0.907138            36.854705  "
      ]
     },
     "execution_count": 69,
     "metadata": {},
     "output_type": "execute_result"
    }
   ],
   "source": [
    "val_to_df(ratio=1/247.7292, c_aba=c2_aba, v_tot=v_total)"
   ]
  }
 ],
 "metadata": {
  "kernelspec": {
   "display_name": "Python 3 (ipykernel)",
   "language": "python",
   "name": "python3"
  },
  "language_info": {
   "codemirror_mode": {
    "name": "ipython",
    "version": 3
   },
   "file_extension": ".py",
   "mimetype": "text/x-python",
   "name": "python",
   "nbconvert_exporter": "python",
   "pygments_lexer": "ipython3",
   "version": "3.9.7"
  }
 },
 "nbformat": 4,
 "nbformat_minor": 5
}
