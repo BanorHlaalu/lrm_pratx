{
 "cells": [
  {
   "cell_type": "markdown",
   "id": "439ac374-ef8c-49f4-9035-1e40ff1c0a9d",
   "metadata": {},
   "source": [
    "# Abatacept Labeling Calculations"
   ]
  },
  {
   "cell_type": "markdown",
   "id": "6f7bba38-5217-47a5-b114-7b295be6fa9c",
   "metadata": {},
   "source": [
    "30.11.21"
   ]
  },
  {
   "cell_type": "code",
   "execution_count": 1,
   "id": "1d9510c8-d355-48e9-b47b-7df966fc479a",
   "metadata": {},
   "outputs": [],
   "source": [
    "import numpy as np\n",
    "import pandas as pd\n",
    "import matplotlib.pyplot as plt\n",
    "from scipy import constants"
   ]
  },
  {
   "cell_type": "code",
   "execution_count": 2,
   "id": "7c09a8d9-b34f-4949-9000-31c5d68c85ab",
   "metadata": {},
   "outputs": [],
   "source": [
    "def val_to_df(act_per_vol=2732500000000.0,v_tot=100,c_aba=10,ratio=1/1):\n",
    "    '''Calculates all components for Cu-64 labeling.\n",
    "    act_per_vol: Activity per volume of received Cu-64 solution in Bq/L (default: 1000) e.g. 504 MBq /100 uL = (504*10**6) / (100*10**-6)\n",
    "    v_tot: Total target volume of Abatacept-Copper mix in uL (default: 100)\n",
    "    c_aba: Target final concentration of Abatacept in uM (default: 10)\n",
    "    ratio: Ratio of radionuclide to peptide (default: 1/1)\n",
    "    '''\n",
    "    M = 92_000 #g/mol\n",
    "    c_m_aba = 5.72 #mg/mL\n",
    "    half_life = 12.7*60**2 #s\n",
    "    c_aba_1 = c_m_aba/M #M\n",
    "    v_aba_1 = (c_aba*10**-6*v_tot*10**-6)/c_aba_1 #L\n",
    "    n_aba = v_tot*10**-6 * c_aba*10**-6 #mol\n",
    "    n_rad = n_aba * ratio #mol\n",
    "    act_rad = n_rad * constants.N_A * np.log(2) / half_life #Bq\n",
    "    v_rad = act_rad/act_per_vol #L\n",
    "    v_amm = v_rad #L\n",
    "    v_dil = v_tot*10**-6-v_aba_1-v_rad-v_amm #L\n",
    "    mol_act = (act_rad*10**-6)/(n_aba*10**9) #MBq/nmol\n",
    "    return pd.DataFrame({'c_peptide_start[M]':[c_aba_1],'V_abatacept[uL]':[v_aba_1*10**6],'n_abatacept[nmol]':[n_aba*10**9],'n_radionuclide[nmol]':[n_rad*10**9],\n",
    "                         'Activity[MBq]':[act_rad*10**-6],'V_radionuclide[uL]':[v_rad*10**6],'V_ammoniumacetate[uL]':[v_amm*10**6],'V_diluent[uL]':[v_dil*10**6],\n",
    "                         'molar act[MBq/nmol]':[mol_act]})"
   ]
  },
  {
   "cell_type": "markdown",
   "id": "ee4931e8-4640-40e8-84cf-65919eb09b7d",
   "metadata": {},
   "source": [
    "1093 MBq / 400 uL @ 2pm"
   ]
  },
  {
   "cell_type": "code",
   "execution_count": 3,
   "id": "d6269a42-4a23-49fb-a2fc-f82a0525760f",
   "metadata": {},
   "outputs": [
    {
     "data": {
      "text/plain": [
       "2732500000000.0"
      ]
     },
     "execution_count": 3,
     "metadata": {},
     "output_type": "execute_result"
    }
   ],
   "source": [
    "(1093*10**6)/(400*10**-6)"
   ]
  },
  {
   "cell_type": "markdown",
   "id": "0012a349-5e02-4fdc-8047-2f26894adca4",
   "metadata": {
    "tags": []
   },
   "source": [
    "## Sample 1"
   ]
  },
  {
   "cell_type": "markdown",
   "id": "2f185fa0-9706-47cd-8c4c-ea21bd4a9b61",
   "metadata": {},
   "source": [
    "* Activity: 100 MBq\n",
    "* Abatacept conc: 10 uM"
   ]
  },
  {
   "cell_type": "code",
   "execution_count": 4,
   "id": "9baa004e-4fb4-4ab7-b6ad-70a751e34e7b",
   "metadata": {},
   "outputs": [
    {
     "name": "stdout",
     "output_type": "stream",
     "text": [
      "ratio: 1/92\n",
      "   c_peptide_start[M]  V_abatacept[uL]  n_abatacept[nmol]  \\\n",
      "0            0.000062        16.083916                1.0   \n",
      "\n",
      "   n_radionuclide[nmol]  Activity[MBq]  V_radionuclide[uL]  \\\n",
      "0               0.01087      99.238985           36.318018   \n",
      "\n",
      "   V_ammoniumacetate[uL]  V_diluent[uL]  molar act[MBq/nmol]  \n",
      "0              36.318018      11.280047            99.238985  \n"
     ]
    }
   ],
   "source": [
    "act_tar = 100\n",
    "for i in range(1,300):\n",
    "    df = val_to_df(ratio=1/i, c_aba=10)\n",
    "    if df['V_diluent[uL]'][0] > 0 and df['Activity[MBq]'][0] < act_tar:\n",
    "        print(f'ratio: 1/{i}')\n",
    "        print(df)\n",
    "        break"
   ]
  },
  {
   "cell_type": "markdown",
   "id": "84a83f85-5467-4a43-9ad2-28ea970e4f33",
   "metadata": {
    "tags": []
   },
   "source": [
    "## Sample 2"
   ]
  },
  {
   "cell_type": "markdown",
   "id": "56641440-0e84-487e-ac85-fddd18eaeed8",
   "metadata": {},
   "source": [
    "* Activity: 50 MBq\n",
    "* Abatacept conc: 10 uM"
   ]
  },
  {
   "cell_type": "code",
   "execution_count": 5,
   "id": "5e007641-18e2-4645-afa1-01688187922e",
   "metadata": {},
   "outputs": [
    {
     "name": "stdout",
     "output_type": "stream",
     "text": [
      "ratio: 1/183\n",
      "   c_peptide_start[M]  V_abatacept[uL]  n_abatacept[nmol]  \\\n",
      "0            0.000062        16.083916                1.0   \n",
      "\n",
      "   n_radionuclide[nmol]  Activity[MBq]  V_radionuclide[uL]  \\\n",
      "0              0.005464      49.890637           18.258239   \n",
      "\n",
      "   V_ammoniumacetate[uL]  V_diluent[uL]  molar act[MBq/nmol]  \n",
      "0              18.258239      47.399606            49.890637  \n"
     ]
    }
   ],
   "source": [
    "act_tar = 50\n",
    "for i in range(1,300):\n",
    "    df = val_to_df(ratio=1/i, c_aba=10)\n",
    "    if df['V_diluent[uL]'][0] > 0 and df['Activity[MBq]'][0] < act_tar:\n",
    "        print(f'ratio: 1/{i}')\n",
    "        print(df)\n",
    "        break"
   ]
  },
  {
   "cell_type": "markdown",
   "id": "25dbcf4d-b314-45d0-9105-3e246257545b",
   "metadata": {
    "tags": []
   },
   "source": [
    "## Sample 3"
   ]
  },
  {
   "cell_type": "markdown",
   "id": "a0dabc46-5993-4520-982c-dec5411e3b87",
   "metadata": {
    "tags": []
   },
   "source": [
    "* Activity: 22.82 MBq\n",
    "* Abatacept conc: 5 uM"
   ]
  },
  {
   "cell_type": "code",
   "execution_count": 6,
   "id": "daa40d26-643d-44f3-bd8c-5a4404ba78c4",
   "metadata": {},
   "outputs": [
    {
     "name": "stdout",
     "output_type": "stream",
     "text": [
      "ratio: 1/201\n",
      "   c_peptide_start[M]  V_abatacept[uL]  n_abatacept[nmol]  \\\n",
      "0            0.000062         8.041958                0.5   \n",
      "\n",
      "   n_radionuclide[nmol]  Activity[MBq]  V_radionuclide[uL]  \\\n",
      "0              0.002488       22.71141            8.311586   \n",
      "\n",
      "   V_ammoniumacetate[uL]  V_diluent[uL]  molar act[MBq/nmol]  \n",
      "0               8.311586      75.334869            45.422819  \n"
     ]
    }
   ],
   "source": [
    "act_tar = 22.82\n",
    "for i in range(1,300):\n",
    "    df = val_to_df(ratio=1/i, c_aba=5)\n",
    "    if df['V_diluent[uL]'][0] > 0 and df['Activity[MBq]'][0] < act_tar:\n",
    "        print(f'ratio: 1/{i}')\n",
    "        print(df)\n",
    "        break"
   ]
  },
  {
   "cell_type": "markdown",
   "id": "b8fa9207-4e74-473e-8525-8d8d2e8b5311",
   "metadata": {
    "tags": []
   },
   "source": [
    "## Sample 4"
   ]
  },
  {
   "cell_type": "markdown",
   "id": "df99f93a-b659-488a-a02f-3781662f7fc7",
   "metadata": {
    "tags": []
   },
   "source": [
    "* Activity: 4.56 MBq\n",
    "* Abatacept conc: 1 uM"
   ]
  },
  {
   "cell_type": "code",
   "execution_count": 7,
   "id": "395f5e8e-a7cd-4727-a825-bf201241243a",
   "metadata": {},
   "outputs": [
    {
     "name": "stdout",
     "output_type": "stream",
     "text": [
      "ratio: 1/201\n",
      "   c_peptide_start[M]  V_abatacept[uL]  n_abatacept[nmol]  \\\n",
      "0            0.000062         1.608392                0.1   \n",
      "\n",
      "   n_radionuclide[nmol]  Activity[MBq]  V_radionuclide[uL]  \\\n",
      "0              0.000498       4.542282            1.662317   \n",
      "\n",
      "   V_ammoniumacetate[uL]  V_diluent[uL]  molar act[MBq/nmol]  \n",
      "0               1.662317      95.066974            45.422819  \n"
     ]
    }
   ],
   "source": [
    "act_tar = 4.56\n",
    "for i in range(1,300):\n",
    "    df = val_to_df(ratio=1/i, c_aba=1)\n",
    "    if df['V_diluent[uL]'][0] > 0 and df['Activity[MBq]'][0] < act_tar:\n",
    "        print(f'ratio: 1/{i}')\n",
    "        print(df)\n",
    "        break"
   ]
  },
  {
   "cell_type": "markdown",
   "id": "8584811e-6d02-404e-9fa3-a3b64b90310d",
   "metadata": {
    "tags": []
   },
   "source": [
    "## Sample 5"
   ]
  },
  {
   "cell_type": "markdown",
   "id": "e641116c-c1c1-49e7-b120-a739d3a77c6f",
   "metadata": {
    "tags": []
   },
   "source": [
    "* Activity: 3.04 MBq\n",
    "* Abatacept conc: 0.5 uM"
   ]
  },
  {
   "cell_type": "code",
   "execution_count": 8,
   "id": "701710e9-3dc9-461c-a097-4fbc508d62dc",
   "metadata": {},
   "outputs": [
    {
     "name": "stdout",
     "output_type": "stream",
     "text": [
      "ratio: 1/151\n",
      "   c_peptide_start[M]  V_abatacept[uL]  n_abatacept[nmol]  \\\n",
      "0            0.000062         0.804196               0.05   \n",
      "\n",
      "   n_radionuclide[nmol]  Activity[MBq]  V_radionuclide[uL]  \\\n",
      "0              0.000331       3.023174            1.106377   \n",
      "\n",
      "   V_ammoniumacetate[uL]  V_diluent[uL]  molar act[MBq/nmol]  \n",
      "0               1.106377      96.983051            60.463488  \n"
     ]
    }
   ],
   "source": [
    "act_tar = 3.04\n",
    "for i in range(1,300):\n",
    "    df = val_to_df(ratio=1/i, c_aba=0.5)\n",
    "    if df['V_diluent[uL]'][0] > 0 and df['Activity[MBq]'][0] < act_tar:\n",
    "        print(f'ratio: 1/{i}')\n",
    "        print(df)\n",
    "        break"
   ]
  },
  {
   "cell_type": "markdown",
   "id": "90b5b9ab-2f9b-4a4f-9a94-657a3385ceca",
   "metadata": {},
   "source": [
    "## Activity measurements 15:32, background 0.260"
   ]
  },
  {
   "cell_type": "code",
   "execution_count": 9,
   "id": "250bf5d4-886f-407c-806f-86a710aedca6",
   "metadata": {},
   "outputs": [
    {
     "data": {
      "text/html": [
       "<div>\n",
       "<style scoped>\n",
       "    .dataframe tbody tr th:only-of-type {\n",
       "        vertical-align: middle;\n",
       "    }\n",
       "\n",
       "    .dataframe tbody tr th {\n",
       "        vertical-align: top;\n",
       "    }\n",
       "\n",
       "    .dataframe thead th {\n",
       "        text-align: right;\n",
       "    }\n",
       "</style>\n",
       "<table border=\"1\" class=\"dataframe\">\n",
       "  <thead>\n",
       "    <tr style=\"text-align: right;\">\n",
       "      <th></th>\n",
       "      <th>tube</th>\n",
       "      <th>activity_measured[MBq]</th>\n",
       "      <th>n_abatacept[nmol]</th>\n",
       "      <th>activity[Bq]</th>\n",
       "      <th>n_abatacept[mol]</th>\n",
       "      <th>molar_act[Bq/mol]</th>\n",
       "      <th>molar_act[MBq/nmol]</th>\n",
       "    </tr>\n",
       "  </thead>\n",
       "  <tbody>\n",
       "    <tr>\n",
       "      <th>0</th>\n",
       "      <td>1</td>\n",
       "      <td>76.88</td>\n",
       "      <td>1.00</td>\n",
       "      <td>76620000.0</td>\n",
       "      <td>1.000000e-09</td>\n",
       "      <td>7.662000e+16</td>\n",
       "      <td>76.62</td>\n",
       "    </tr>\n",
       "    <tr>\n",
       "      <th>1</th>\n",
       "      <td>2</td>\n",
       "      <td>44.86</td>\n",
       "      <td>1.00</td>\n",
       "      <td>44600000.0</td>\n",
       "      <td>1.000000e-09</td>\n",
       "      <td>4.460000e+16</td>\n",
       "      <td>44.60</td>\n",
       "    </tr>\n",
       "    <tr>\n",
       "      <th>2</th>\n",
       "      <td>3</td>\n",
       "      <td>23.44</td>\n",
       "      <td>0.50</td>\n",
       "      <td>23180000.0</td>\n",
       "      <td>5.000000e-10</td>\n",
       "      <td>4.636000e+16</td>\n",
       "      <td>46.36</td>\n",
       "    </tr>\n",
       "    <tr>\n",
       "      <th>3</th>\n",
       "      <td>4</td>\n",
       "      <td>4.71</td>\n",
       "      <td>0.10</td>\n",
       "      <td>4450000.0</td>\n",
       "      <td>1.000000e-10</td>\n",
       "      <td>4.450000e+16</td>\n",
       "      <td>44.50</td>\n",
       "    </tr>\n",
       "    <tr>\n",
       "      <th>4</th>\n",
       "      <td>5</td>\n",
       "      <td>3.55</td>\n",
       "      <td>0.05</td>\n",
       "      <td>3290000.0</td>\n",
       "      <td>5.000000e-11</td>\n",
       "      <td>6.580000e+16</td>\n",
       "      <td>65.80</td>\n",
       "    </tr>\n",
       "  </tbody>\n",
       "</table>\n",
       "</div>"
      ],
      "text/plain": [
       "   tube  activity_measured[MBq]  n_abatacept[nmol]  activity[Bq]  \\\n",
       "0     1                   76.88               1.00    76620000.0   \n",
       "1     2                   44.86               1.00    44600000.0   \n",
       "2     3                   23.44               0.50    23180000.0   \n",
       "3     4                    4.71               0.10     4450000.0   \n",
       "4     5                    3.55               0.05     3290000.0   \n",
       "\n",
       "   n_abatacept[mol]  molar_act[Bq/mol]  molar_act[MBq/nmol]  \n",
       "0      1.000000e-09       7.662000e+16                76.62  \n",
       "1      1.000000e-09       4.460000e+16                44.60  \n",
       "2      5.000000e-10       4.636000e+16                46.36  \n",
       "3      1.000000e-10       4.450000e+16                44.50  \n",
       "4      5.000000e-11       6.580000e+16                65.80  "
      ]
     },
     "execution_count": 9,
     "metadata": {},
     "output_type": "execute_result"
    }
   ],
   "source": [
    "tube_number = [1,2,3,4,5]\n",
    "act_measured = [76.88,44.86,23.44,4.71,3.55]\n",
    "n_abatacept = [1,1,0.5,0.1,0.05]\n",
    "background = 0.260\n",
    "df = pd.DataFrame(data={'tube':tube_number,'activity_measured[MBq]':act_measured,'n_abatacept[nmol]':n_abatacept})\n",
    "df['activity[Bq]'] = (df['activity_measured[MBq]']-background)*10**6\n",
    "df['n_abatacept[mol]'] = df['n_abatacept[nmol]']/10**9\n",
    "df['molar_act[Bq/mol]'] = df['activity[Bq]']/df['n_abatacept[mol]']\n",
    "df['molar_act[MBq/nmol]'] = (df['activity[Bq]']/10**6)/(df['n_abatacept[mol]']*10**9)\n",
    "df"
   ]
  },
  {
   "cell_type": "code",
   "execution_count": null,
   "id": "97d68de6-97b9-413b-be3e-60644e483fa5",
   "metadata": {},
   "outputs": [],
   "source": []
  }
 ],
 "metadata": {
  "kernelspec": {
   "display_name": "Python 3 (ipykernel)",
   "language": "python",
   "name": "python3"
  },
  "language_info": {
   "codemirror_mode": {
    "name": "ipython",
    "version": 3
   },
   "file_extension": ".py",
   "mimetype": "text/x-python",
   "name": "python",
   "nbconvert_exporter": "python",
   "pygments_lexer": "ipython3",
   "version": "3.9.7"
  }
 },
 "nbformat": 4,
 "nbformat_minor": 5
}
