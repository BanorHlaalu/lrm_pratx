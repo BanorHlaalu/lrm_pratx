{
 "cells": [
  {
   "cell_type": "markdown",
   "id": "352d3927-c1fe-4d6c-8116-1d2b17743d64",
   "metadata": {
    "tags": []
   },
   "source": [
    "# Calculations Radioluminescence microscopy December 2021"
   ]
  },
  {
   "cell_type": "code",
   "execution_count": 1,
   "id": "539c88b9-47fe-480b-a341-a4e09f527e6b",
   "metadata": {
    "jupyter": {
     "source_hidden": true
    },
    "tags": []
   },
   "outputs": [],
   "source": [
    "import numpy as np\n",
    "from scipy import constants\n",
    "import pandas as pd"
   ]
  },
  {
   "cell_type": "markdown",
   "id": "59e0dace-6a92-42a0-9036-4203d4a9bf66",
   "metadata": {
    "tags": []
   },
   "source": [
    "## Dilutions"
   ]
  },
  {
   "cell_type": "code",
   "execution_count": 2,
   "id": "a8517124-aabe-4347-b7c3-0d5c1b788fa6",
   "metadata": {},
   "outputs": [],
   "source": [
    "# Starting parameters (fill in)\n",
    "# Ratio radionuclide/peptide should be:\n",
    "ratio = 1/228\n",
    "# Abatacept concentration\n",
    "c_m_aba_1 = 5.72 #mg/mL\n",
    "# Molar mass\n",
    "M = 92_000 #g/mol"
   ]
  },
  {
   "cell_type": "code",
   "execution_count": 3,
   "id": "b452f12b-0e1b-4527-bf93-0766072e5efa",
   "metadata": {},
   "outputs": [
    {
     "name": "stdout",
     "output_type": "stream",
     "text": [
      "Abatacept 5.72 mg/mL: 6.217391304347826e-05 M\n"
     ]
    }
   ],
   "source": [
    "# Abatacept concentrations in M\n",
    "c_aba_1 = c_m_aba_1/M #M\n",
    "print(f'Abatacept {c_m_aba_1} mg/mL: {c_aba_1} M')"
   ]
  },
  {
   "cell_type": "code",
   "execution_count": 4,
   "id": "4762d56c-b7e8-49eb-95db-efb9d00d2505",
   "metadata": {},
   "outputs": [
    {
     "name": "stdout",
     "output_type": "stream",
     "text": [
      "[[1.0000000e-05 1.0000000e-06 1.0000000e-07]\n",
      " [2.0000000e-04 2.0000000e-04 2.0000000e-04]\n",
      " [6.2173913e-05 6.2173913e-05 6.2173913e-05]]\n",
      "[['Dilution conc']\n",
      " ['Total volumes']\n",
      " ['Starting conc abatacept']]\n"
     ]
    }
   ],
   "source": [
    "# Target Dilutions (3 different dilutions to get a range of concentrations)\n",
    "# Volume tracer solution needed for 1 slide: 200 uL >> adjust V_d\n",
    "#Dilution 1 \n",
    "c_d1 = 10 #uM according to blocker conc. M.T.notebook 1 p91\n",
    "c_d1 = c_d1*1E-6 #M\n",
    "V_d1 = 200 #uL\n",
    "V_d1 = V_d1*1E-6 #L\n",
    "#Dilution 2 \n",
    "c_d2 = 1 #uM\n",
    "c_d2 = c_d2*1E-6 #M\n",
    "V_d2 = 200 #uL\n",
    "V_d2 = V_d2*1E-6 #L\n",
    "#Dilution 3\n",
    "c_d3 = 0.1 #uM according partial blocking conc. M.T.notebook 1 p91\n",
    "c_d3 = c_d3*1E-6 #M\n",
    "V_d3 = 200 #uL\n",
    "V_d3 = V_d3*1E-6 #L\n",
    "# Create array of dilutions 1,2,3 with parameter per n and dilution per m\n",
    "arr = np.array([[c_d1,c_d2,c_d3],[V_d1,V_d2,V_d3],[c_aba_1,c_aba_1,c_aba_1]])\n",
    "print(arr)\n",
    "names = np.array([['Dilution conc'],['Total volumes'],['Starting conc abatacept']])\n",
    "print(names)"
   ]
  },
  {
   "cell_type": "code",
   "execution_count": 5,
   "id": "e07ad48f-9812-4b92-83b1-c56e9058e81d",
   "metadata": {},
   "outputs": [
    {
     "name": "stdout",
     "output_type": "stream",
     "text": [
      "Volume of abatacept to use in uL: [32.16783217  3.21678322  0.32167832]\n",
      "[[1.00000000e-05 1.00000000e-06 1.00000000e-07]\n",
      " [2.00000000e-04 2.00000000e-04 2.00000000e-04]\n",
      " [6.21739130e-05 6.21739130e-05 6.21739130e-05]\n",
      " [3.21678322e-05 3.21678322e-06 3.21678322e-07]]\n",
      "[['Dilution conc']\n",
      " ['Total volumes']\n",
      " ['Starting conc abatacept']\n",
      " ['Volume abatacept']]\n"
     ]
    }
   ],
   "source": [
    "# Volume of Abatacept\n",
    "# c1 * V1 = c2 * V2\n",
    "# V1 = c2*V2/c1\n",
    "# c1: arr[2]\n",
    "# V2: arr[1]\n",
    "# c2: arr[0]\n",
    "arr = np.vstack((arr,(arr[0]*arr[1])/arr[2]))\n",
    "names = np.vstack((names,np.array(['Volume abatacept'])))\n",
    "print(f'Volume of abatacept to use in uL: {arr[-1]*1E6}')\n",
    "print(arr)\n",
    "print(names)"
   ]
  },
  {
   "cell_type": "code",
   "execution_count": 6,
   "id": "5a42d7e6-2f83-4122-b0a8-a7163ab6b621",
   "metadata": {},
   "outputs": [
    {
     "name": "stdout",
     "output_type": "stream",
     "text": [
      "[[1.00000000e-05 1.00000000e-06 1.00000000e-07]\n",
      " [2.00000000e-04 2.00000000e-04 2.00000000e-04]\n",
      " [6.21739130e-05 6.21739130e-05 6.21739130e-05]\n",
      " [3.21678322e-05 3.21678322e-06 3.21678322e-07]\n",
      " [2.00000000e-09 2.00000000e-10 2.00000000e-11]]\n",
      "[['Dilution conc']\n",
      " ['Total volumes']\n",
      " ['Starting conc abatacept']\n",
      " ['Volume abatacept']\n",
      " ['Amount abatacept']]\n"
     ]
    }
   ],
   "source": [
    "# Amount of Abatacept\n",
    "# n = V * c\n",
    "# V = arr[1]\n",
    "# c = arr[0]\n",
    "arr = np.vstack((arr,arr[1]*arr[0]))\n",
    "names = np.vstack((names,np.array(['Amount abatacept'])))\n",
    "print(arr)\n",
    "print(names)"
   ]
  },
  {
   "cell_type": "code",
   "execution_count": 7,
   "id": "93fb6034-570a-42df-b984-ae0db375b025",
   "metadata": {},
   "outputs": [
    {
     "name": "stdout",
     "output_type": "stream",
     "text": [
      "[[1.00000000e-05 1.00000000e-06 1.00000000e-07]\n",
      " [2.00000000e-04 2.00000000e-04 2.00000000e-04]\n",
      " [6.21739130e-05 6.21739130e-05 6.21739130e-05]\n",
      " [3.21678322e-05 3.21678322e-06 3.21678322e-07]\n",
      " [2.00000000e-09 2.00000000e-10 2.00000000e-11]\n",
      " [8.77192982e-12 8.77192982e-13 8.77192982e-14]]\n",
      "[['Dilution conc']\n",
      " ['Total volumes']\n",
      " ['Starting conc abatacept']\n",
      " ['Volume abatacept']\n",
      " ['Amount abatacept']\n",
      " ['Amount Radionuclide']]\n"
     ]
    }
   ],
   "source": [
    "# Amount radionuclide\n",
    "# n = ratio * npep\n",
    "# ratio = ratio\n",
    "# npep = arr[-1]\n",
    "arr = np.vstack((arr,ratio*arr[-1]))\n",
    "names = np.vstack((names,np.array(['Amount Radionuclide'])))\n",
    "print(arr)\n",
    "print(names)"
   ]
  },
  {
   "cell_type": "code",
   "execution_count": 8,
   "id": "0320f330-af09-47f8-903e-2d8219fce650",
   "metadata": {},
   "outputs": [
    {
     "name": "stdout",
     "output_type": "stream",
     "text": [
      "Activity of sample in MBq: [80.08760205  8.0087602   0.80087602]\n",
      "[[1.00000000e-05 1.00000000e-06 1.00000000e-07]\n",
      " [2.00000000e-04 2.00000000e-04 2.00000000e-04]\n",
      " [6.21739130e-05 6.21739130e-05 6.21739130e-05]\n",
      " [3.21678322e-05 3.21678322e-06 3.21678322e-07]\n",
      " [2.00000000e-09 2.00000000e-10 2.00000000e-11]\n",
      " [8.77192982e-12 8.77192982e-13 8.77192982e-14]\n",
      " [8.00876020e+07 8.00876020e+06 8.00876020e+05]]\n",
      "[['Dilution conc']\n",
      " ['Total volumes']\n",
      " ['Starting conc abatacept']\n",
      " ['Volume abatacept']\n",
      " ['Amount abatacept']\n",
      " ['Amount Radionuclide']\n",
      " ['Activity']]\n"
     ]
    }
   ],
   "source": [
    "# Activity\n",
    "\n",
    "# Half life Cu-64:\n",
    "half_life = 12.7*60**2 #s\n",
    "# Avogardro constant NA = constants.N_A\n",
    "# Activity of radionuclide formula:\n",
    "# A = nrad*NA*ln(2)/half_life (see wikipedia becquerel)\n",
    "# nrad = arr[-1]\n",
    "# NA = constants.N_A\n",
    "# half_life = half_life\n",
    "A = arr[-1]*constants.N_A*np.log(2)/half_life\n",
    "arr = np.vstack((arr,A))\n",
    "names = np.vstack((names,np.array(['Activity'])))\n",
    "print(f'Activity of sample in MBq: {arr[-1]*1E-6}')\n",
    "print(arr)\n",
    "print(names)"
   ]
  },
  {
   "cell_type": "code",
   "execution_count": 9,
   "id": "4b88618f-c0bf-4beb-a6e6-7edcb794cb9f",
   "metadata": {},
   "outputs": [
    {
     "name": "stdout",
     "output_type": "stream",
     "text": [
      "Activity/n of peptide in MBq/nmol: [40.04380102 40.04380102 40.04380102]\n",
      "[[1.00000000e-05 1.00000000e-06 1.00000000e-07]\n",
      " [2.00000000e-04 2.00000000e-04 2.00000000e-04]\n",
      " [6.21739130e-05 6.21739130e-05 6.21739130e-05]\n",
      " [3.21678322e-05 3.21678322e-06 3.21678322e-07]\n",
      " [2.00000000e-09 2.00000000e-10 2.00000000e-11]\n",
      " [8.77192982e-12 8.77192982e-13 8.77192982e-14]\n",
      " [8.00876020e+07 8.00876020e+06 8.00876020e+05]\n",
      " [4.00438010e+16 4.00438010e+16 4.00438010e+16]]\n",
      "[['Dilution conc']\n",
      " ['Total volumes']\n",
      " ['Starting conc abatacept']\n",
      " ['Volume abatacept']\n",
      " ['Amount abatacept']\n",
      " ['Amount Radionuclide']\n",
      " ['Activity']\n",
      " ['Activity per mol peptide']]\n"
     ]
    }
   ],
   "source": [
    "# Activity/n of peptide (MBq/nmol) should be around 40:\n",
    "# act_per_n = A / npep\n",
    "arr = np.vstack((arr,arr[-1]/arr[-3]))\n",
    "names = np.vstack((names,np.array(['Activity per mol peptide'])))\n",
    "print(f'Activity/n of peptide in MBq/nmol: {arr[-1]*1E-9*1E-6}')\n",
    "print(arr)\n",
    "print(names)"
   ]
  },
  {
   "cell_type": "code",
   "execution_count": 10,
   "id": "021ab3b4-4a33-4096-bacb-fbdbb9a2bb68",
   "metadata": {},
   "outputs": [],
   "source": [
    "# Convert to usable units\n",
    "# Activity Bq to MBq\n",
    "activity_MBq = arr[-2]/10**6\n",
    "# Activity/n Bq/mol to MBq/nmol\n",
    "act_per_n = arr[-1]/10**15"
   ]
  },
  {
   "cell_type": "code",
   "execution_count": 11,
   "id": "94846746-5b36-45a7-b218-a465759785b2",
   "metadata": {},
   "outputs": [
    {
     "data": {
      "text/html": [
       "<div>\n",
       "<style scoped>\n",
       "    .dataframe tbody tr th:only-of-type {\n",
       "        vertical-align: middle;\n",
       "    }\n",
       "\n",
       "    .dataframe tbody tr th {\n",
       "        vertical-align: top;\n",
       "    }\n",
       "\n",
       "    .dataframe thead th {\n",
       "        text-align: right;\n",
       "    }\n",
       "</style>\n",
       "<table border=\"1\" class=\"dataframe\">\n",
       "  <thead>\n",
       "    <tr style=\"text-align: right;\">\n",
       "      <th></th>\n",
       "      <th>Dilution conc</th>\n",
       "      <th>Total volumes</th>\n",
       "      <th>Starting conc abatacept</th>\n",
       "      <th>Volume abatacept</th>\n",
       "      <th>Amount abatacept</th>\n",
       "      <th>Amount Radionuclide</th>\n",
       "      <th>Activity</th>\n",
       "      <th>Activity per mol peptide</th>\n",
       "      <th>Activity[MBq]</th>\n",
       "      <th>Activity per n peptide[MBq/nmol]</th>\n",
       "      <th>1/ratio</th>\n",
       "    </tr>\n",
       "  </thead>\n",
       "  <tbody>\n",
       "    <tr>\n",
       "      <th>0</th>\n",
       "      <td>1.000000e-05</td>\n",
       "      <td>0.0002</td>\n",
       "      <td>0.000062</td>\n",
       "      <td>3.216783e-05</td>\n",
       "      <td>2.000000e-09</td>\n",
       "      <td>8.771930e-12</td>\n",
       "      <td>8.008760e+07</td>\n",
       "      <td>4.004380e+16</td>\n",
       "      <td>80.087602</td>\n",
       "      <td>40.043801</td>\n",
       "      <td>228.0</td>\n",
       "    </tr>\n",
       "    <tr>\n",
       "      <th>1</th>\n",
       "      <td>1.000000e-06</td>\n",
       "      <td>0.0002</td>\n",
       "      <td>0.000062</td>\n",
       "      <td>3.216783e-06</td>\n",
       "      <td>2.000000e-10</td>\n",
       "      <td>8.771930e-13</td>\n",
       "      <td>8.008760e+06</td>\n",
       "      <td>4.004380e+16</td>\n",
       "      <td>8.008760</td>\n",
       "      <td>40.043801</td>\n",
       "      <td>228.0</td>\n",
       "    </tr>\n",
       "    <tr>\n",
       "      <th>2</th>\n",
       "      <td>1.000000e-07</td>\n",
       "      <td>0.0002</td>\n",
       "      <td>0.000062</td>\n",
       "      <td>3.216783e-07</td>\n",
       "      <td>2.000000e-11</td>\n",
       "      <td>8.771930e-14</td>\n",
       "      <td>8.008760e+05</td>\n",
       "      <td>4.004380e+16</td>\n",
       "      <td>0.800876</td>\n",
       "      <td>40.043801</td>\n",
       "      <td>228.0</td>\n",
       "    </tr>\n",
       "  </tbody>\n",
       "</table>\n",
       "</div>"
      ],
      "text/plain": [
       "   Dilution conc  Total volumes  Starting conc abatacept  Volume abatacept  \\\n",
       "0   1.000000e-05         0.0002                 0.000062      3.216783e-05   \n",
       "1   1.000000e-06         0.0002                 0.000062      3.216783e-06   \n",
       "2   1.000000e-07         0.0002                 0.000062      3.216783e-07   \n",
       "\n",
       "   Amount abatacept  Amount Radionuclide      Activity  \\\n",
       "0      2.000000e-09         8.771930e-12  8.008760e+07   \n",
       "1      2.000000e-10         8.771930e-13  8.008760e+06   \n",
       "2      2.000000e-11         8.771930e-14  8.008760e+05   \n",
       "\n",
       "   Activity per mol peptide  Activity[MBq]  Activity per n peptide[MBq/nmol]  \\\n",
       "0              4.004380e+16      80.087602                         40.043801   \n",
       "1              4.004380e+16       8.008760                         40.043801   \n",
       "2              4.004380e+16       0.800876                         40.043801   \n",
       "\n",
       "   1/ratio  \n",
       "0    228.0  \n",
       "1    228.0  \n",
       "2    228.0  "
      ]
     },
     "execution_count": 11,
     "metadata": {},
     "output_type": "execute_result"
    }
   ],
   "source": [
    "# Output as dataframe\n",
    "df = pd.DataFrame(data=arr.T,columns=names.flatten())\n",
    "df['Activity[MBq]'] = activity_MBq\n",
    "df['Activity per n peptide[MBq/nmol]'] = act_per_n\n",
    "df['1/ratio'] = 1/ratio\n",
    "df"
   ]
  },
  {
   "cell_type": "markdown",
   "id": "fa5fdbba-ac61-4037-a29c-26a6f4b2f259",
   "metadata": {
    "jp-MarkdownHeadingCollapsed": true,
    "tags": []
   },
   "source": [
    "## How much will stick to slide"
   ]
  },
  {
   "cell_type": "code",
   "execution_count": 12,
   "id": "f9aa1434-db93-47a8-9f93-dfa1ee07bf2b",
   "metadata": {},
   "outputs": [
    {
     "name": "stdout",
     "output_type": "stream",
     "text": [
      "I will get \n",
      " 0    0.383028\n",
      "1    0.383028\n",
      "2    0.383028\n",
      "dtype: float64 MBq/ug\n"
     ]
    }
   ],
   "source": [
    "# How much activity per ug tracer do I get compared to paper (they got 1.1 MBq/ug)\n",
    "c = 6.5 #g/L\n",
    "A = df['Activity[MBq]'] #MBq\n",
    "V = df['Volume abatacept'] #L\n",
    "m = c*V #g\n",
    "As = A/(m*1E6)\n",
    "print(f'I will get \\n {As} MBq/ug')"
   ]
  },
  {
   "cell_type": "markdown",
   "id": "bb23c6bd-166d-42d3-ba7a-2895d304203b",
   "metadata": {
    "jp-MarkdownHeadingCollapsed": true,
    "tags": []
   },
   "source": [
    "Autoradiography calc (Assuming everything stays on slide):\n",
    "* Typical molar activity: 500 GBq/umol (more like 40 GBq/umol (see above))\n",
    "* 5 uL of 10 nM = 5E-8 umol abatacept (we're expecting 2 nmol, 0.4 nmol, 0.04 nmol)\n",
    "* 2.5E-5 GBq >> 25 kBq\n",
    "* Total 100 kBq\n",
    "* LL: 100 Bq/g\n",
    "* LA: 30 MBq\n",
    "* 50E-6 nmol * 500 MBq/nmol = 25 kBq\n",
    "* max 1 MBq\n",
    "\n"
   ]
  },
  {
   "cell_type": "code",
   "execution_count": 13,
   "id": "9a329f47-c3b7-40bf-a68e-a3d7e19ab269",
   "metadata": {},
   "outputs": [],
   "source": [
    "df.loc[3] = 0"
   ]
  },
  {
   "cell_type": "code",
   "execution_count": 14,
   "id": "7984b585-2bba-4e07-8b6b-078e6fac8280",
   "metadata": {},
   "outputs": [
    {
     "data": {
      "text/html": [
       "<div>\n",
       "<style scoped>\n",
       "    .dataframe tbody tr th:only-of-type {\n",
       "        vertical-align: middle;\n",
       "    }\n",
       "\n",
       "    .dataframe tbody tr th {\n",
       "        vertical-align: top;\n",
       "    }\n",
       "\n",
       "    .dataframe thead th {\n",
       "        text-align: right;\n",
       "    }\n",
       "</style>\n",
       "<table border=\"1\" class=\"dataframe\">\n",
       "  <thead>\n",
       "    <tr style=\"text-align: right;\">\n",
       "      <th></th>\n",
       "      <th>Dilution conc</th>\n",
       "      <th>Total volumes</th>\n",
       "      <th>Starting conc abatacept</th>\n",
       "      <th>Volume abatacept</th>\n",
       "      <th>Amount abatacept</th>\n",
       "      <th>Amount Radionuclide</th>\n",
       "      <th>Activity</th>\n",
       "      <th>Activity per mol peptide</th>\n",
       "      <th>Activity[MBq]</th>\n",
       "      <th>Activity per n peptide[MBq/nmol]</th>\n",
       "      <th>1/ratio</th>\n",
       "    </tr>\n",
       "  </thead>\n",
       "  <tbody>\n",
       "    <tr>\n",
       "      <th>0</th>\n",
       "      <td>1.000000e-05</td>\n",
       "      <td>0.0002</td>\n",
       "      <td>0.000062</td>\n",
       "      <td>3.216783e-05</td>\n",
       "      <td>2.000000e-09</td>\n",
       "      <td>8.771930e-12</td>\n",
       "      <td>8.008760e+07</td>\n",
       "      <td>4.004380e+16</td>\n",
       "      <td>80.087602</td>\n",
       "      <td>40.043801</td>\n",
       "      <td>228.0</td>\n",
       "    </tr>\n",
       "    <tr>\n",
       "      <th>1</th>\n",
       "      <td>1.000000e-06</td>\n",
       "      <td>0.0002</td>\n",
       "      <td>0.000062</td>\n",
       "      <td>3.216783e-06</td>\n",
       "      <td>2.000000e-10</td>\n",
       "      <td>8.771930e-13</td>\n",
       "      <td>8.008760e+06</td>\n",
       "      <td>4.004380e+16</td>\n",
       "      <td>8.008760</td>\n",
       "      <td>40.043801</td>\n",
       "      <td>228.0</td>\n",
       "    </tr>\n",
       "    <tr>\n",
       "      <th>2</th>\n",
       "      <td>1.000000e-07</td>\n",
       "      <td>0.0002</td>\n",
       "      <td>0.000062</td>\n",
       "      <td>3.216783e-07</td>\n",
       "      <td>2.000000e-11</td>\n",
       "      <td>8.771930e-14</td>\n",
       "      <td>8.008760e+05</td>\n",
       "      <td>4.004380e+16</td>\n",
       "      <td>0.800876</td>\n",
       "      <td>40.043801</td>\n",
       "      <td>228.0</td>\n",
       "    </tr>\n",
       "    <tr>\n",
       "      <th>3</th>\n",
       "      <td>0.000000e+00</td>\n",
       "      <td>0.0000</td>\n",
       "      <td>0.000000</td>\n",
       "      <td>0.000000e+00</td>\n",
       "      <td>0.000000e+00</td>\n",
       "      <td>0.000000e+00</td>\n",
       "      <td>0.000000e+00</td>\n",
       "      <td>0.000000e+00</td>\n",
       "      <td>0.000000</td>\n",
       "      <td>0.000000</td>\n",
       "      <td>0.0</td>\n",
       "    </tr>\n",
       "  </tbody>\n",
       "</table>\n",
       "</div>"
      ],
      "text/plain": [
       "   Dilution conc  Total volumes  Starting conc abatacept  Volume abatacept  \\\n",
       "0   1.000000e-05         0.0002                 0.000062      3.216783e-05   \n",
       "1   1.000000e-06         0.0002                 0.000062      3.216783e-06   \n",
       "2   1.000000e-07         0.0002                 0.000062      3.216783e-07   \n",
       "3   0.000000e+00         0.0000                 0.000000      0.000000e+00   \n",
       "\n",
       "   Amount abatacept  Amount Radionuclide      Activity  \\\n",
       "0      2.000000e-09         8.771930e-12  8.008760e+07   \n",
       "1      2.000000e-10         8.771930e-13  8.008760e+06   \n",
       "2      2.000000e-11         8.771930e-14  8.008760e+05   \n",
       "3      0.000000e+00         0.000000e+00  0.000000e+00   \n",
       "\n",
       "   Activity per mol peptide  Activity[MBq]  Activity per n peptide[MBq/nmol]  \\\n",
       "0              4.004380e+16      80.087602                         40.043801   \n",
       "1              4.004380e+16       8.008760                         40.043801   \n",
       "2              4.004380e+16       0.800876                         40.043801   \n",
       "3              0.000000e+00       0.000000                          0.000000   \n",
       "\n",
       "   1/ratio  \n",
       "0    228.0  \n",
       "1    228.0  \n",
       "2    228.0  \n",
       "3      0.0  "
      ]
     },
     "execution_count": 14,
     "metadata": {},
     "output_type": "execute_result"
    }
   ],
   "source": [
    "df"
   ]
  },
  {
   "cell_type": "code",
   "execution_count": null,
   "id": "8c335620-3746-4dbc-bb90-5a753b1a1e2b",
   "metadata": {},
   "outputs": [],
   "source": []
  },
  {
   "cell_type": "markdown",
   "id": "d83c7e0b-6492-4130-9d7c-32b6c3707613",
   "metadata": {},
   "source": [
    "# Add more dilutions (based on D0)"
   ]
  },
  {
   "cell_type": "code",
   "execution_count": 15,
   "id": "85a894ed-9792-4804-a3fa-6cb935dcbd3c",
   "metadata": {},
   "outputs": [],
   "source": [
    "df.iloc[3] = df.iloc[0].copy()\n",
    "def fraction_of_dil0(factor=0.5):\n",
    "    '''Adds a fraction of dil0 to the table.\n",
    "    factor: Is multiplied with dil0 (total activity is usually limiting.)\n",
    "    '''\n",
    "    df.loc[3,'Dilution conc'] = df.loc[0,'Dilution conc']*factor\n",
    "    df.loc[3,'Volume abatacept'] = df.loc[0,'Volume abatacept']*factor\n",
    "    df.loc[3,'Amount abatacept'] = df.loc[0,'Amount abatacept']*factor\n",
    "    df.loc[3,'Amount Radionuclide'] = df.loc[0,'Amount Radionuclide']*factor\n",
    "    df.loc[3,'Activity'] = df.loc[0,'Activity']*factor\n",
    "    df.loc[3,'Activity[MBq]'] = df.loc[0,'Activity[MBq]']*factor"
   ]
  },
  {
   "cell_type": "code",
   "execution_count": 16,
   "id": "adbc4912-6543-4c1e-aa4a-e3d7db09cdb9",
   "metadata": {},
   "outputs": [
    {
     "data": {
      "text/html": [
       "<div>\n",
       "<style scoped>\n",
       "    .dataframe tbody tr th:only-of-type {\n",
       "        vertical-align: middle;\n",
       "    }\n",
       "\n",
       "    .dataframe tbody tr th {\n",
       "        vertical-align: top;\n",
       "    }\n",
       "\n",
       "    .dataframe thead th {\n",
       "        text-align: right;\n",
       "    }\n",
       "</style>\n",
       "<table border=\"1\" class=\"dataframe\">\n",
       "  <thead>\n",
       "    <tr style=\"text-align: right;\">\n",
       "      <th></th>\n",
       "      <th>Dilution conc</th>\n",
       "      <th>Total volumes</th>\n",
       "      <th>Starting conc abatacept</th>\n",
       "      <th>Volume abatacept</th>\n",
       "      <th>Amount abatacept</th>\n",
       "      <th>Amount Radionuclide</th>\n",
       "      <th>Activity</th>\n",
       "      <th>Activity per mol peptide</th>\n",
       "      <th>Activity[MBq]</th>\n",
       "      <th>Activity per n peptide[MBq/nmol]</th>\n",
       "      <th>1/ratio</th>\n",
       "    </tr>\n",
       "  </thead>\n",
       "  <tbody>\n",
       "    <tr>\n",
       "      <th>0</th>\n",
       "      <td>1.000000e-05</td>\n",
       "      <td>0.0002</td>\n",
       "      <td>0.000062</td>\n",
       "      <td>3.216783e-05</td>\n",
       "      <td>2.000000e-09</td>\n",
       "      <td>8.771930e-12</td>\n",
       "      <td>8.008760e+07</td>\n",
       "      <td>4.004380e+16</td>\n",
       "      <td>80.087602</td>\n",
       "      <td>40.043801</td>\n",
       "      <td>228.0</td>\n",
       "    </tr>\n",
       "    <tr>\n",
       "      <th>1</th>\n",
       "      <td>1.000000e-06</td>\n",
       "      <td>0.0002</td>\n",
       "      <td>0.000062</td>\n",
       "      <td>3.216783e-06</td>\n",
       "      <td>2.000000e-10</td>\n",
       "      <td>8.771930e-13</td>\n",
       "      <td>8.008760e+06</td>\n",
       "      <td>4.004380e+16</td>\n",
       "      <td>8.008760</td>\n",
       "      <td>40.043801</td>\n",
       "      <td>228.0</td>\n",
       "    </tr>\n",
       "    <tr>\n",
       "      <th>2</th>\n",
       "      <td>1.000000e-07</td>\n",
       "      <td>0.0002</td>\n",
       "      <td>0.000062</td>\n",
       "      <td>3.216783e-07</td>\n",
       "      <td>2.000000e-11</td>\n",
       "      <td>8.771930e-14</td>\n",
       "      <td>8.008760e+05</td>\n",
       "      <td>4.004380e+16</td>\n",
       "      <td>0.800876</td>\n",
       "      <td>40.043801</td>\n",
       "      <td>228.0</td>\n",
       "    </tr>\n",
       "    <tr>\n",
       "      <th>3</th>\n",
       "      <td>5.000000e-07</td>\n",
       "      <td>0.0002</td>\n",
       "      <td>0.000062</td>\n",
       "      <td>1.608392e-06</td>\n",
       "      <td>1.000000e-10</td>\n",
       "      <td>4.385965e-13</td>\n",
       "      <td>4.004380e+06</td>\n",
       "      <td>4.004380e+16</td>\n",
       "      <td>4.004380</td>\n",
       "      <td>40.043801</td>\n",
       "      <td>228.0</td>\n",
       "    </tr>\n",
       "  </tbody>\n",
       "</table>\n",
       "</div>"
      ],
      "text/plain": [
       "   Dilution conc  Total volumes  Starting conc abatacept  Volume abatacept  \\\n",
       "0   1.000000e-05         0.0002                 0.000062      3.216783e-05   \n",
       "1   1.000000e-06         0.0002                 0.000062      3.216783e-06   \n",
       "2   1.000000e-07         0.0002                 0.000062      3.216783e-07   \n",
       "3   5.000000e-07         0.0002                 0.000062      1.608392e-06   \n",
       "\n",
       "   Amount abatacept  Amount Radionuclide      Activity  \\\n",
       "0      2.000000e-09         8.771930e-12  8.008760e+07   \n",
       "1      2.000000e-10         8.771930e-13  8.008760e+06   \n",
       "2      2.000000e-11         8.771930e-14  8.008760e+05   \n",
       "3      1.000000e-10         4.385965e-13  4.004380e+06   \n",
       "\n",
       "   Activity per mol peptide  Activity[MBq]  Activity per n peptide[MBq/nmol]  \\\n",
       "0              4.004380e+16      80.087602                         40.043801   \n",
       "1              4.004380e+16       8.008760                         40.043801   \n",
       "2              4.004380e+16       0.800876                         40.043801   \n",
       "3              4.004380e+16       4.004380                         40.043801   \n",
       "\n",
       "   1/ratio  \n",
       "0    228.0  \n",
       "1    228.0  \n",
       "2    228.0  \n",
       "3    228.0  "
      ]
     },
     "execution_count": 16,
     "metadata": {},
     "output_type": "execute_result"
    }
   ],
   "source": [
    "fraction_of_dil0(0.05)\n",
    "df"
   ]
  },
  {
   "cell_type": "code",
   "execution_count": 22,
   "id": "9ace1b32-4a4b-4f6b-ad0d-36adfa8eef11",
   "metadata": {},
   "outputs": [
    {
     "ename": "SyntaxError",
     "evalue": "invalid syntax (Temp/ipykernel_13360/2211735623.py, line 1)",
     "output_type": "error",
     "traceback": [
      "\u001b[1;36m  File \u001b[1;32m\"C:\\Users\\swies\\AppData\\Local\\Temp/ipykernel_13360/2211735623.py\"\u001b[1;36m, line \u001b[1;32m1\u001b[0m\n\u001b[1;33m    df.loc[['Activity[MBq]':'1/ratio']]\u001b[0m\n\u001b[1;37m                           ^\u001b[0m\n\u001b[1;31mSyntaxError\u001b[0m\u001b[1;31m:\u001b[0m invalid syntax\n"
     ]
    }
   ],
   "source": [
    "df.loc[['Activity[MBq]':'1/ratio']]"
   ]
  },
  {
   "cell_type": "code",
   "execution_count": null,
   "id": "369e0a46-6872-4db2-be77-cd6c65e7bc90",
   "metadata": {},
   "outputs": [],
   "source": [
    "Dose-"
   ]
  }
 ],
 "metadata": {
  "kernelspec": {
   "display_name": "Python 3 (ipykernel)",
   "language": "python",
   "name": "python3"
  },
  "language_info": {
   "codemirror_mode": {
    "name": "ipython",
    "version": 3
   },
   "file_extension": ".py",
   "mimetype": "text/x-python",
   "name": "python",
   "nbconvert_exporter": "python",
   "pygments_lexer": "ipython3",
   "version": "3.9.7"
  }
 },
 "nbformat": 4,
 "nbformat_minor": 5
}
